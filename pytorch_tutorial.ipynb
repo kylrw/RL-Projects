{
 "cells": [
  {
   "cell_type": "code",
   "execution_count": 26,
   "metadata": {},
   "outputs": [],
   "source": [
    "import matplotlib.pyplot as plt\n",
    "import os\n",
    "from time import time\n",
    "import numpy as np\n",
    "\n",
    "import torch\n",
    "import torch.nn as nn\n",
    "import torch.nn.functional as F"
   ]
  },
  {
   "cell_type": "code",
   "execution_count": 27,
   "metadata": {},
   "outputs": [
    {
     "name": "stdout",
     "output_type": "stream",
     "text": [
      "PyTorch version:  2.6.0+cu124\n"
     ]
    }
   ],
   "source": [
    "print(\"PyTorch version: \", torch.__version__)"
   ]
  },
  {
   "cell_type": "code",
   "execution_count": 28,
   "metadata": {},
   "outputs": [
    {
     "name": "stdout",
     "output_type": "stream",
     "text": [
      "Sat Mar  1 18:02:58 2025       \n",
      "+-----------------------------------------------------------------------------------------+\n",
      "| NVIDIA-SMI 560.35.05              Driver Version: 560.35.05      CUDA Version: 12.6     |\n",
      "|-----------------------------------------+------------------------+----------------------+\n",
      "| GPU  Name                 Persistence-M | Bus-Id          Disp.A | Volatile Uncorr. ECC |\n",
      "| Fan  Temp   Perf          Pwr:Usage/Cap |           Memory-Usage | GPU-Util  Compute M. |\n",
      "|                                         |                        |               MIG M. |\n",
      "|=========================================+========================+======================|\n",
      "|   0  NVIDIA GeForce RTX 4080 ...    Off |   00000000:01:00.0  On |                  N/A |\n",
      "| N/A   46C    P2             21W /   60W |     841MiB /  12282MiB |     16%      Default |\n",
      "|                                         |                        |                  N/A |\n",
      "+-----------------------------------------+------------------------+----------------------+\n",
      "                                                                                         \n",
      "+-----------------------------------------------------------------------------------------+\n",
      "| Processes:                                                                              |\n",
      "|  GPU   GI   CI        PID   Type   Process name                              GPU Memory |\n",
      "|        ID   ID                                                               Usage      |\n",
      "|=========================================================================================|\n",
      "|    0   N/A  N/A      3395      G   /usr/lib/xorg/Xorg                            211MiB |\n",
      "|    0   N/A  N/A      3740      G   /usr/bin/gnome-shell                           26MiB |\n",
      "|    0   N/A  N/A      4344      G   ...erProcess --variations-seed-version         56MiB |\n",
      "|    0   N/A  N/A     24345      G   ...seed-version=20250228-151446.092000        140MiB |\n",
      "|    0   N/A  N/A     29280      G   ...erProcess --variations-seed-version        153MiB |\n",
      "|    0   N/A  N/A     33492      C   ...kyler/miniconda3/envs/rl/bin/python        216MiB |\n",
      "+-----------------------------------------------------------------------------------------+\n"
     ]
    }
   ],
   "source": [
    "!nvidia-smi"
   ]
  },
  {
   "cell_type": "code",
   "execution_count": 29,
   "metadata": {},
   "outputs": [
    {
     "name": "stdout",
     "output_type": "stream",
     "text": [
      "tensor([[[0., 0., 0.],\n",
      "         [0., 0., 0.]]])\n",
      "tensor([[[0., 0., 0.],\n",
      "         [0., 0., 0.]]], device='cuda:0')\n"
     ]
    }
   ],
   "source": [
    "tensor_with_zeros = torch.zeros(1,2,3, device='cpu')\n",
    "print(tensor_with_zeros)\n",
    "\n",
    "tensor_with_zeros_on_gpu = torch.zeros(1,2,3, device='cuda')\n",
    "print(tensor_with_zeros_on_gpu)"
   ]
  },
  {
   "cell_type": "code",
   "execution_count": 30,
   "metadata": {},
   "outputs": [
    {
     "name": "stdout",
     "output_type": "stream",
     "text": [
      "tensor([[[0., 0., 0.],\n",
      "         [0., 0., 0.]]], device='cuda:0')\n"
     ]
    }
   ],
   "source": [
    "tensor_with_zeros_cpu_to_gpu = tensor_with_zeros.to('cuda')\n",
    "print(tensor_with_zeros_cpu_to_gpu)"
   ]
  },
  {
   "cell_type": "code",
   "execution_count": 31,
   "metadata": {},
   "outputs": [
    {
     "name": "stdout",
     "output_type": "stream",
     "text": [
      "tensor([1, 2, 3]) tensor([1, 2, 3]) tensor([1, 2, 3])\n"
     ]
    }
   ],
   "source": [
    "python_list = [1,2,3]\n",
    "tensor_from_list = torch.tensor(python_list)\n",
    "tensor_from_array = torch.tensor(np.array(python_list)) # tensor() copies the data\n",
    "tensor_from_array_again = torch.from_numpy(np.array(python_list)) # from_numpy() does not copy the data\n",
    "\n",
    "print(tensor_from_list, tensor_from_array, tensor_from_array_again)"
   ]
  },
  {
   "cell_type": "markdown",
   "metadata": {},
   "source": [
    "Whats the difference between torch.tensor(np.array(python_list)) and torch.from_numpy(np.array(python_list)) "
   ]
  },
  {
   "cell_type": "code",
   "execution_count": 32,
   "metadata": {},
   "outputs": [
    {
     "name": "stdout",
     "output_type": "stream",
     "text": [
      "np_array:  [1000    2    3]\n",
      "tensor_v1:  tensor([1, 2, 3])\n",
      "tensor_v2:  tensor([1000,    2,    3])\n"
     ]
    }
   ],
   "source": [
    "python_list = [1,2,3]\n",
    "np_array = np.array(python_list)\n",
    "tensor_v1 = torch.tensor(np_array)\n",
    "tensor_v2 = torch.from_numpy(np_array)\n",
    "np_array[0] = 1000\n",
    "\n",
    "print(\"np_array: \", np_array)\n",
    "print(\"tensor_v1: \", tensor_v1)\n",
    "print(\"tensor_v2: \", tensor_v2)\n",
    "\n",
    "# from_numpy() does not copy the data whereas tensor() does\n",
    "# this is beneficial when working with large tensors, similar to passing by reference"
   ]
  },
  {
   "cell_type": "markdown",
   "metadata": {},
   "source": [
    "Lets start with logistic regression"
   ]
  },
  {
   "cell_type": "code",
   "execution_count": 33,
   "metadata": {},
   "outputs": [
    {
     "name": "stdout",
     "output_type": "stream",
     "text": [
      "tensor([[ 0.],\n",
      "        [ 1.],\n",
      "        [ 2.],\n",
      "        [ 3.],\n",
      "        [ 4.],\n",
      "        [ 5.],\n",
      "        [ 6.],\n",
      "        [ 7.],\n",
      "        [ 8.],\n",
      "        [ 9.],\n",
      "        [10.]]) tensor([[0.],\n",
      "        [0.],\n",
      "        [0.],\n",
      "        [0.],\n",
      "        [0.],\n",
      "        [0.],\n",
      "        [1.],\n",
      "        [1.],\n",
      "        [1.],\n",
      "        [1.],\n",
      "        [1.]])\n"
     ]
    },
    {
     "data": {
      "text/plain": [
       "Text(0, 0.5, 'Y')"
      ]
     },
     "execution_count": 33,
     "metadata": {},
     "output_type": "execute_result"
    },
    {
     "data": {
      "image/png": "[encoded data removed]",
      "text/plain": [
       "<Figure size 640x480 with 1 Axes>"
      ]
     },
     "metadata": {},
     "output_type": "display_data"
    }
   ],
   "source": [
    "num_max = 11\n",
    "X = torch.arange(0, num_max).unsqueeze(1).float()\n",
    "Y = (X > num_max//2).float() # 0 if X < num_max//2, 1 if X >= num_max//2\n",
    "print(X, Y)\n",
    "\n",
    "plt.plot(X, Y, \"x\")\n",
    "plt.xlabel(\"X\")\n",
    "plt.ylabel(\"Y\")"
   ]
  },
  {
   "cell_type": "code",
   "execution_count": 34,
   "metadata": {},
   "outputs": [
    {
     "name": "stdout",
     "output_type": "stream",
     "text": [
      "tensor([[0.5000],\n",
      "        [0.5000],\n",
      "        [0.5000],\n",
      "        [0.5000],\n",
      "        [0.5000],\n",
      "        [0.5000],\n",
      "        [0.5000],\n",
      "        [0.5000],\n",
      "        [0.5000],\n",
      "        [0.5000],\n",
      "        [0.5000]])\n",
      "tensor([[0],\n",
      "        [0],\n",
      "        [0],\n",
      "        [0],\n",
      "        [0],\n",
      "        [0],\n",
      "        [0],\n",
      "        [0],\n",
      "        [0],\n",
      "        [0],\n",
      "        [0]])\n",
      "tensor(0.5455)\n"
     ]
    },
    {
     "data": {
      "text/plain": [
       "<matplotlib.legend.Legend at 0x7102ae289bb0>"
      ]
     },
     "execution_count": 34,
     "metadata": {},
     "output_type": "execute_result"
    },
    {
     "data": {
      "image/png": "[encoded data removed]",
      "text/plain": [
       "<Figure size 640x480 with 1 Axes>"
      ]
     },
     "metadata": {},
     "output_type": "display_data"
    }
   ],
   "source": [
    "W = torch.zeros(1,1)\n",
    "b = torch.zeros(1)\n",
    "\n",
    "logits = (X * W.t() + b) # t() is the transpose operator\n",
    "predications = torch.sigmoid(logits)\n",
    "print(predications)\n",
    "\n",
    "labels = (predications > 0.5).long()\n",
    "print(labels)\n",
    "\n",
    "accuracy = (labels == Y).float().mean()\n",
    "print(accuracy)\n",
    "\n",
    "# This model is trying to learn the relationship between X and Y\n",
    "\n",
    "# Now we will plot the model's predictions vs the actual labels\n",
    "plt.plot(X, Y, \"o\", label=\"actual\")\n",
    "plt.plot(X, labels, \"x\", label=\"predicted\")\n",
    "plt.xlabel(\"X\")\n",
    "plt.ylabel(\"Y\")\n",
    "plt.legend()\n"
   ]
  },
  {
   "cell_type": "markdown",
   "metadata": {},
   "source": [
    "Now gradiant descent"
   ]
  },
  {
   "cell_type": "code",
   "execution_count": 35,
   "metadata": {},
   "outputs": [],
   "source": [
    "dW = torch.zeros_like(W)\n",
    "db = torch.zeros_like(b)"
   ]
  },
  {
   "cell_type": "markdown",
   "metadata": {},
   "source": [
    "Define the Binary Cross Entry (BCE) loss function"
   ]
  },
  {
   "cell_type": "code",
   "execution_count": 36,
   "metadata": {},
   "outputs": [],
   "source": [
    "def loss_function(predications, Y):\n",
    "    return -(Y*predications.log() + (1-Y)*(1-predications).log()).mean()"
   ]
  },
  {
   "cell_type": "code",
   "execution_count": 37,
   "metadata": {},
   "outputs": [
    {
     "name": "stdout",
     "output_type": "stream",
     "text": [
      "tensor(0.6931)\n"
     ]
    }
   ],
   "source": [
    "print(loss_function(predications, Y))"
   ]
  },
  {
   "cell_type": "code",
   "execution_count": 38,
   "metadata": {},
   "outputs": [
    {
     "name": "stdout",
     "output_type": "stream",
     "text": [
      "tensor(0.2273) tensor(0.0455)\n"
     ]
    }
   ],
   "source": [
    "dW = (X * (predications - Y).t()).mean()\n",
    "db = (predications - Y).mean()\n",
    "print(dW, db)"
   ]
  },
  {
   "cell_type": "code",
   "execution_count": 39,
   "metadata": {},
   "outputs": [
    {
     "name": "stdout",
     "output_type": "stream",
     "text": [
      "tensor([[0.]]) tensor([0.])\n",
      "tensor([[-0.0002]]) tensor([-4.5455e-05])\n"
     ]
    }
   ],
   "source": [
    "lr = 0.001\n",
    "print(W, b)\n",
    "W = W - lr * dW\n",
    "b = b - lr * db\n",
    "print(W, b)"
   ]
  },
  {
   "cell_type": "code",
   "execution_count": 40,
   "metadata": {},
   "outputs": [
    {
     "name": "stdout",
     "output_type": "stream",
     "text": [
      "tensor([[0.5000],\n",
      "        [0.5000],\n",
      "        [0.5000],\n",
      "        [0.5000],\n",
      "        [0.5000],\n",
      "        [0.5000],\n",
      "        [0.5000],\n",
      "        [0.5000],\n",
      "        [0.5000],\n",
      "        [0.5000],\n",
      "        [0.5000]])\n",
      "tensor([[0.],\n",
      "        [0.],\n",
      "        [0.],\n",
      "        [0.],\n",
      "        [0.],\n",
      "        [0.],\n",
      "        [0.],\n",
      "        [0.],\n",
      "        [0.],\n",
      "        [0.],\n",
      "        [0.]])\n",
      "tensor(0.5455)\n",
      "tensor(0.2273) tensor(0.0455)\n",
      "tensor([[0.]]) tensor([0.])\n",
      "tensor([[-0.0002]]) tensor([-4.5455e-05])\n"
     ]
    }
   ],
   "source": [
    "W = torch.zeros(1,1)\n",
    "b = torch.zeros(1)\n",
    "\n",
    "predications = torch.sigmoid(W.t() * X + b)\n",
    "print(predications)\n",
    "\n",
    "labels = (predications > 0.5).float()\n",
    "print(labels)\n",
    "\n",
    "accuracy = (labels == Y).float().mean()\n",
    "print(accuracy)\n",
    "\n",
    "dW = torch.zeros_like(W)\n",
    "db = torch.zeros_like(b)\n",
    "\n",
    "dW = (X * (predications - Y).t()).mean()\n",
    "db = (predications - Y).mean()\n",
    "print(dW, db)\n",
    "\n",
    "lr = 0.001\n",
    "print(W, b)\n",
    "W = W - lr * dW\n",
    "b = b - lr * db\n",
    "print(W, b)"
   ]
  },
  {
   "cell_type": "code",
   "execution_count": 41,
   "metadata": {},
   "outputs": [],
   "source": [
    "def init_params():\n",
    "    W = torch.zeros(1,1)\n",
    "    b = torch.zeros(1)\n",
    "    return W, b\n",
    "\n",
    "def compute_predictions(W, X, b):\n",
    "    logits = (W.t() * X + b)\n",
    "    predications = torch.sigmoid(logits)\n",
    "    return predications\n",
    "\n",
    "def get_labels(predications):\n",
    "    return (predications > 0.5).float()"
   ]
  }
 ],
 "metadata": {
  "kernelspec": {
   "display_name": "rl",
   "language": "python",
   "name": "python3"
  },
  "language_info": {
   "codemirror_mode": {
    "name": "ipython",
    "version": 3
   },
   "file_extension": ".py",
   "mimetype": "text/x-python",
   "name": "python",
   "nbconvert_exporter": "python",
   "pygments_lexer": "ipython3",
   "version": "3.9.21"
  }
 },
 "nbformat": 4,
 "nbformat_minor": 2
}

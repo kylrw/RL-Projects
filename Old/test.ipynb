{
 "cells": [
  {
   "cell_type": "code",
   "execution_count": 2,
   "metadata": {},
   "outputs": [
    {
     "name": "stdout",
     "output_type": "stream",
     "text": [
      "The best-performing environment was: 3 with reward: -1363.8403179732627\n"
     ]
    }
   ],
   "source": [
    "import gymnasium as gym\n",
    "import numpy as np\n",
    "\n",
    "# Number of parallel environments\n",
    "num_envs = 24\n",
    "\n",
    "# Initialize 24 parallel environments\n",
    "envs = gym.vector.SyncVectorEnv([lambda: gym.make(\"LunarLander-v3\") for _ in range(num_envs)])\n",
    "\n",
    "# Reset all environments\n",
    "observations, infos = envs.reset(seed=42)\n",
    "\n",
    "# Track rewards for each environment\n",
    "total_rewards = np.zeros(num_envs)\n",
    "\n",
    "# Number of steps per environment\n",
    "num_steps = 1000\n",
    "\n",
    "for _ in range(num_steps):\n",
    "    # Insert your policy here. For now, use random actions for each environment\n",
    "    actions = [envs.single_action_space.sample() for _ in range(num_envs)]\n",
    "\n",
    "    # Step through all environments in parallel\n",
    "    observations, rewards, terminations, truncations, infos = envs.step(actions)\n",
    "\n",
    "    # Accumulate rewards for each environment\n",
    "    total_rewards += rewards\n",
    "\n",
    "    # Reset environments that are done\n",
    "    done = terminations | truncations\n",
    "    if done.any():\n",
    "        envs.reset_done = done\n",
    "\n",
    "# Find the best-performing environment\n",
    "best_env_index = np.argmax(total_rewards)\n",
    "print(f\"The best-performing environment was: {best_env_index} with reward: {total_rewards[best_env_index]}\")\n",
    "\n",
    "# Close the environments\n",
    "envs.close()\n"
   ]
  }
 ],
 "metadata": {
  "kernelspec": {
   "display_name": "deeprl",
   "language": "python",
   "name": "python3"
  },
  "language_info": {
   "codemirror_mode": {
    "name": "ipython",
    "version": 3
   },
   "file_extension": ".py",
   "mimetype": "text/x-python",
   "name": "python",
   "nbconvert_exporter": "python",
   "pygments_lexer": "ipython3",
   "version": "3.11.11"
  }
 },
 "nbformat": 4,
 "nbformat_minor": 2
}
